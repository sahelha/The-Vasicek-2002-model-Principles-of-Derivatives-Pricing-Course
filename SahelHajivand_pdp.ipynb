{
  "nbformat": 4,
  "nbformat_minor": 0,
  "metadata": {
    "colab": {
      "provenance": []
    },
    "kernelspec": {
      "name": "python3",
      "display_name": "Python 3"
    },
    "language_info": {
      "name": "python"
    }
  },
  "cells": [
    {
      "cell_type": "code",
      "execution_count": 1,
      "metadata": {
        "id": "IN6wB-NU6RF_"
      },
      "outputs": [],
      "source": [
        "import numpy as np\n",
        "import pandas as pd\n",
        "import matplotlib.pyplot as plt\n",
        "import matplotlib.dates as mdates\n",
        "import seaborn as sns\n",
        "from datetime import datetime, timedelta\n",
        "import warnings\n",
        "from scipy import stats\n",
        "import math \n",
        "import random\n",
        "from numpy.random import seed\n",
        "from numpy.random import normal\n",
        "from scipy.stats import norm\n",
        "import scipy\n",
        "warnings.filterwarnings(\"ignore\")"
      ]
    },
    {
      "cell_type": "markdown",
      "source": [
        "Part 1:\n",
        ">\n",
        "• Define variables for the model parameters. These variables will be used in subsequent parts of the work. Use the ̅\n",
        "following values (which are those used in the Excel file given in the example) : 𝐴0 = 100, 𝛼 = 0.1, 𝜎 = 0.2, 𝐵 = 75, 𝑇 = 1, 𝜌 = 0.1 et 𝑛 = 100."
      ],
      "metadata": {
        "id": "ytnuinKr6iT1"
      }
    },
    {
      "cell_type": "code",
      "source": [
        "#Define variables for the model parameters\n",
        "A0 = 100\n",
        "alpha = 0.1\n",
        "sigma_a = 0.2\n",
        "bbar = 75\n",
        "T = 1\n",
        "rho = 0.1\n",
        "n = 100"
      ],
      "metadata": {
        "id": "5PXf35Rr6dvS"
      },
      "execution_count": 2,
      "outputs": []
    },
    {
      "cell_type": "markdown",
      "source": [
        "Part 2: \n",
        ">\n",
        "\n",
        "• Calculate the distance to default (𝑑𝑑) and the probability of default (𝑃𝐷).\n",
        "\n",
        "\n",
        "\n",
        "• Display these values on the screen."
      ],
      "metadata": {
        "id": "RGRJwFS_Yc_a"
      }
    },
    {
      "cell_type": "code",
      "source": [
        "#Equation for distance to defualt and probability of defualt\n",
        "def equations(A0,bbar,alpha,sigma_a,T):\n",
        "    dd = (np.log(A0/bbar) + (alpha - 0.5*sigma_a**2)*T)/(sigma_a*np.sqrt(T)) #Distance to default\n",
        "    pd = scipy.special.ndtr(-dd) #Probability of default\n",
        "    \n",
        "    print('Distance to default:%10.3f' % round(dd,2), 'Probability of default:%10.4f' % round(pd,3)) #print rounded values\n",
        "\n",
        "#Calculate distance to defualt and probability of defualt for the given parameters\n",
        "equations(100,75,0.1,0.2,1)\n"
      ],
      "metadata": {
        "colab": {
          "base_uri": "https://localhost:8080/"
        },
        "id": "rZKkBoQLXAvi",
        "outputId": "5da63895-de1b-49c8-c63c-5dc34c1c8ec5"
      },
      "execution_count": 3,
      "outputs": [
        {
          "output_type": "stream",
          "name": "stdout",
          "text": [
            "Distance to default:     1.840 Probability of default:    0.0330\n"
          ]
        }
      ]
    },
    {
      "cell_type": "markdown",
      "source": [
        "Part 3:\n",
        ">\n",
        "• Simulate a vector of 10 000 paths of 𝐿:\n",
        ">\n",
        "o Use the simulation procedure described in your slides and illustrated in the Excel example file. Use 𝑛 = 100 instead of 𝑛 = 5. \n",
        ">\n",
        "o Store the simulated values of 𝐿 in a vector of dimension 10 000 × 1.\n",
        ">\n",
        "• Calculate the average of the simulated values and display this value on the screen. This average should be close to the default probability (𝑃𝐷).\n",
        ">\n",
        "• Generate a histogram of the simulated values. Be sure to provide a graph title and identify the axes (as in the Excel example file)."
      ],
      "metadata": {
        "id": "OrBMXg0S6tq7"
      }
    },
    {
      "cell_type": "code",
      "source": [
        "#Simulate values of F with a Normal (0; 1) and convert it to DataFrame\n",
        "F = np.random.normal(size = 10000, loc = 0, scale = 1)"
      ],
      "metadata": {
        "id": "pkloh_bU6pBp"
      },
      "execution_count": 4,
      "outputs": []
    },
    {
      "cell_type": "code",
      "source": [
        "#Simulate n values of zi with Normal(0;1) for i = 1 to 100\n",
        "mylist = []\n",
        "\n",
        "for i in range(0,100):\n",
        "    x = np.random.normal(size = 10000, loc = 0, scale = 1)\n",
        "    mylist.append(x)\n",
        "\n",
        "#convert it to a DataFrame and Transpose it\n",
        "zibar=pd.DataFrame(mylist).T \n",
        "\n",
        "\n",
        "\n"
      ],
      "metadata": {
        "id": "tXpzyq8C6wZH"
      },
      "execution_count": 5,
      "outputs": []
    },
    {
      "cell_type": "code",
      "source": [
        "#Calculate the values of zi\n",
        "zi0 = zibar.copy()\n",
        "zi = zi0.copy()\n",
        "\n",
        "for i in range(0,100):\n",
        "    zi[i] = np.sqrt(rho)*F+np.sqrt(1-rho)*zi0[i]\n",
        "    zi.append(zi[i])\n",
        "    "
      ],
      "metadata": {
        "id": "ypfVLo00606S"
      },
      "execution_count": 6,
      "outputs": []
    },
    {
      "cell_type": "code",
      "source": [
        "#Calculate the n values of Ai\n",
        "Ai = zi.copy()\n",
        "for i in range(0,100):\n",
        "    Ai[i] = A0*np.exp((alpha-0.5*sigma_a**2)*T +sigma_a*np.sqrt(T)*zi[i])\n",
        "    Ai.append(Ai[i])\n",
        "\n",
        "#Generate Li using dummies\n",
        "Li = Ai.copy()\n",
        "for i in range(0,100):\n",
        "    Li[i] = (bbar >= Ai[i]).astype(int)\n",
        "    Li.append(Li[i])\n",
        "    \n",
        "#Calculate n values of Li and add it to the DataFrame\n",
        "Li['L'] = Li.mean(axis=1)\n",
        "\n",
        "#Calculate Average of Ls which is close to PD (Compute the proportion of default)\n",
        "Li['L'].mean()\n"
      ],
      "metadata": {
        "colab": {
          "base_uri": "https://localhost:8080/"
        },
        "id": "rfuDPo-584oG",
        "outputId": "347d7a32-3518-48c3-fd3b-6f1d121aec1f"
      },
      "execution_count": 7,
      "outputs": [
        {
          "output_type": "execute_result",
          "data": {
            "text/plain": [
              "0.033353"
            ]
          },
          "metadata": {},
          "execution_count": 7
        }
      ]
    },
    {
      "cell_type": "code",
      "source": [
        "#histogram of simulated values\n",
        "sns.set(rc={'figure.figsize':(11.7,8.27)})\n",
        "Li['L'].hist(bins=int(60))\n",
        "plt.xlabel(\"Proportions of defaults\")\n",
        "plt.ylabel(\"Count\")"
      ],
      "metadata": {
        "colab": {
          "base_uri": "https://localhost:8080/",
          "height": 534
        },
        "id": "qSDkbJWX9nmX",
        "outputId": "1203e339-594c-44d7-e579-6aac872ff4f0"
      },
      "execution_count": 8,
      "outputs": [
        {
          "output_type": "execute_result",
          "data": {
            "text/plain": [
              "Text(0, 0.5, 'Count')"
            ]
          },
          "metadata": {},
          "execution_count": 8
        },
        {
          "output_type": "display_data",
          "data": {
            "text/plain": [
              "<Figure size 842.4x595.44 with 1 Axes>"
            ],
            "image/png": "[encoded data removed]"
          },
          "metadata": {}
        }
      ]
    },
    {
      "cell_type": "markdown",
      "source": [
        "Part 4:\n",
        ">\n",
        "• Code a Python function that computes the density function of the proportion loss proportions (equation (1) in the slides).\n",
        "\n",
        "• Using this function, reproduce the density graph that appears in the Excel example file that accompanies the slides (the case 𝜌 = 0.1). Be sure to provide a title for the graph and identify the axes."
      ],
      "metadata": {
        "id": "oKjJ2IHD-OSU"
      }
    },
    {
      "cell_type": "code",
      "source": [
        "#density function of the proportion loss proportions\n",
        "def density_fun(x,PD,rho):\n",
        "    den = np.sqrt((1-rho)/rho)*np.exp((-1)/(2*rho)*(np.sqrt(1-rho)*norm.ppf(x)-norm.ppf(PD))**2+0.5*(norm.ppf(x))**2) #equation 1\n",
        "    return den"
      ],
      "metadata": {
        "id": "NXcCBdp1-Blm"
      },
      "execution_count": 9,
      "outputs": []
    },
    {
      "cell_type": "code",
      "source": [
        "#reproducing path of x as same as what is done in Excel\n",
        "x0 = [0] * 44\n",
        "x0new = pd.DataFrame(x0,columns = ['X'])\n",
        "x = x0new.copy()\n",
        "for i in range(44):\n",
        "    x.iloc[i] = x.iloc[i-1] + 0.0025\n",
        "    x.append(x.iloc[i])\n",
        "x_n = x.rename(columns={\"X\": \"Proportion of losses\"})\n",
        "\n",
        "#applying density function to reproduced Xs\n",
        "dens = x.copy()\n",
        "for i in range(44):\n",
        "    dens.iloc[i] = density_fun(x.iloc[i],0.033,0.1)\n",
        "    dens.append(dens.iloc[i])\n",
        "dens_n = dens.rename(columns={\"X\": \"Density\"})\n",
        "\n",
        "denplot = pd.concat([x_n, dens_n], axis=1) #mergeing X and Density values of them to plot it\n",
        "denplot.plot(x='Proportion of losses', y='Density', ylabel='Density', title='Density of Proportion of losses', figsize=(11.7,8.27))\t\n"
      ],
      "metadata": {
        "colab": {
          "base_uri": "https://localhost:8080/",
          "height": 550
        },
        "id": "eAvIcmnm4aTQ",
        "outputId": "1d25afbe-128c-4969-9f07-69aef38d3176"
      },
      "execution_count": 10,
      "outputs": [
        {
          "output_type": "execute_result",
          "data": {
            "text/plain": [
              "<matplotlib.axes._subplots.AxesSubplot at 0x7f9203270f40>"
            ]
          },
          "metadata": {},
          "execution_count": 10
        },
        {
          "output_type": "display_data",
          "data": {
            "text/plain": [
              "<Figure size 842.4x595.44 with 1 Axes>"
            ],
            "image/png": "[encoded data removed]"
          },
          "metadata": {}
        }
      ]
    },
    {
      "cell_type": "markdown",
      "source": [
        "Part 5:\n",
        ">\n",
        "• Code a Python function that computes the distribution function of the proportions of losses (equation (2) in the slides):\n",
        ">\n",
        "• With this function, calculate 𝑃(𝐿 < 0.0823). Display this value on the screen.\n",
        ">\n",
        "• Using the 10 000 simulated paths of 𝐿, estimate this probability ( 𝑃(𝐿 < 0.0823) ) as in the Excel example. Display the estimated value on the screen.\n"
      ],
      "metadata": {
        "id": "Lae3azopCs42"
      }
    },
    {
      "cell_type": "code",
      "source": [
        "#function that computes the distribution function of the proportions of losses \n",
        "def dist_fun(x,PD,rho):\n",
        "  #equation (2) in the slides\n",
        "  dist = scipy.special.ndtr((np.sqrt(1-rho)*scipy.special.ndtri(x)- scipy.special.ndtri(PD))/np.sqrt(rho))\n",
        "  return dist\n",
        "\n",
        "\n",
        "#Probability that the loss prop is smaller than X using the 10 000 simulated paths of 𝐿\n",
        "sim_li = pd.DataFrame(Li['L'])\n",
        "for i in range(0,10000):\n",
        "    sim_li.iloc[i] = (0.0823 >= sim_li.iloc[i]).astype(int)\n",
        "    sim_li.append(sim_li.iloc[i])\n",
        "\n",
        "#calculate and print Prob. That the loss be smaller than X (using analytical calculation and simulation) for given parameters in Excel \n",
        "\n",
        "print('Prob. That the loss be smaller than X using analytical calculation is:%10.4f' % round(dist_fun(.0823,0.033,0.1),4),'\\n',\n",
        "      'Prob. That the loss be smaller than X using simulation is:%10.4f' % sim_li['L'].mean()) #for simulation we get the mean"
      ],
      "metadata": {
        "colab": {
          "base_uri": "https://localhost:8080/"
        },
        "id": "-W_0MbuJCuHo",
        "outputId": "6ac23b18-afb9-49f9-9db1-e16dbe77c42e"
      },
      "execution_count": 11,
      "outputs": [
        {
          "output_type": "stream",
          "name": "stdout",
          "text": [
            "Prob. That the loss be smaller than X using analytical calculation is:    0.9499 \n",
            " Prob. That the loss be smaller than X using simulation is:    0.9310\n"
          ]
        }
      ]
    },
    {
      "cell_type": "markdown",
      "source": [
        "Part 6:\n",
        ">\n",
        "• Code a Python function that calculates the value at risk (equation (3) of the slides).\n",
        ">\n",
        "• With this function, calculate the value at risk for a probability of 5%. Display this value on the screen.\n",
        ">\n",
        "• Using the 10 000 simulated paths of 𝐿, estimate the value at risk by calculating a percentile of these paths. Display the value on the screen.\n"
      ],
      "metadata": {
        "id": "vH_sPJp8Ih68"
      }
    },
    {
      "cell_type": "code",
      "source": [
        "#calculates the value at risk (equation (3) of the slides)\n",
        "from scipy.stats import norm\n",
        "def VaR(A0,bbar,alpha,sigma_a,T,rho,p):\n",
        "    dd = (np.log(A0/bbar) + (alpha - 0.5*sigma_a**2)*T)/(sigma_a*np.sqrt(T))\n",
        "    PD = stats.norm.cdf(-dd)\n",
        "    VaR = norm.cdf((np.sqrt(rho)*norm.ppf(1-p)+norm.ppf(PD))/np.sqrt(1-rho))\n",
        "    return VaR\n",
        "\n",
        "p = 0.05\n",
        "\n",
        "#Calculating VaR using simulation\n",
        "def VarSim(p):\n",
        "    asc_order = np.sort(Li['L'])\n",
        "    pnew = p*100\n",
        "    return np.percentile(asc_order, 100-pnew)\n",
        "\n",
        "p = 0.05\n",
        "#print value at risk for a probability of 5% using analytical calculation and simulation\n",
        "print('VaR using analytical calculation is:%10.4f' % round(VaR(A0,bbar,alpha,sigma_a,T,rho,p),5),'\\n',\n",
        "      'VaR using simulation is:%10.4f' % VarSim(p))"
      ],
      "metadata": {
        "colab": {
          "base_uri": "https://localhost:8080/"
        },
        "id": "dy5MqL8-Gl-S",
        "outputId": "2ff22c52-3b8c-4d23-fc14-1a17dd207af6"
      },
      "execution_count": 12,
      "outputs": [
        {
          "output_type": "stream",
          "name": "stdout",
          "text": [
            "VaR using analytical calculation is:    0.0823 \n",
            " VaR using simulation is:    0.0900\n"
          ]
        }
      ]
    },
    {
      "cell_type": "markdown",
      "source": [
        "Part 7:\n",
        "\n",
        "• With the function calculating the value at risk, reproduce the graph from the Excel example that examines how the VaR changes as a function of 𝜌. Be sure to give the graph a title and identify the axes."
      ],
      "metadata": {
        "id": "1poZ-UMve-Ia"
      }
    },
    {
      "cell_type": "code",
      "source": [
        "#reproducing different value for rho as given in Excel\n",
        "rhos = pd.DataFrame(np.linspace(0.025, 0.7, num=28))\n",
        "rhos_n = rhos.rename(columns={0: \"rho\"})\n",
        "\n",
        "#calculate VaR for different rhos\n",
        "rhoschanges = rhos.copy()\n",
        "for i in range(28):\n",
        "  rhoschanges.iloc[i] = VaR(100,75,0.1,0.2,1,rhos.iloc[i],0.05)\n",
        "  rhoschanges.append(rhoschanges.iloc[i])\n",
        "rhoschanges_n = rhoschanges.rename(columns={0: \"VaR\"})\n",
        "\n",
        "#merge the dataframe of rhos with VaR dataframe to plot\n",
        "rhosplot = pd.concat([rhos_n, rhoschanges_n], axis=1)\t\n",
        "\n",
        "#plot rhosplot dataframe\n",
        "rhosplot.plot(kind = 'line', x = 'rho', y = 'VaR',ylabel='95% VaR', title='VaR changes as a function of rho', figsize=(11.7,8.27))"
      ],
      "metadata": {
        "id": "qXJZe-eZIrTh",
        "colab": {
          "base_uri": "https://localhost:8080/",
          "height": 550
        },
        "outputId": "ec46f8ba-0d49-4a85-cceb-6e72b1704ab3"
      },
      "execution_count": 13,
      "outputs": [
        {
          "output_type": "execute_result",
          "data": {
            "text/plain": [
              "<matplotlib.axes._subplots.AxesSubplot at 0x7f9202d71460>"
            ]
          },
          "metadata": {},
          "execution_count": 13
        },
        {
          "output_type": "display_data",
          "data": {
            "text/plain": [
              "<Figure size 842.4x595.44 with 1 Axes>"
            ],
            "image/png": "[encoded data removed]"
          },
          "metadata": {}
        }
      ]
    }
  ]
}